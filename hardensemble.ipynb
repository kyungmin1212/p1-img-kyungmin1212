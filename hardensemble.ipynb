{
 "cells": [
  {
   "cell_type": "code",
   "execution_count": 76,
   "id": "conventional-inspector",
   "metadata": {},
   "outputs": [],
   "source": [
    "import os\n",
    "import glob\n",
    "import pandas as pd\n",
    "import numpy as np\n",
    "data_path='/opt/ml/realcode/output'\n",
    "choice_data=['/opt/ml/realcode/output/cutmixlabel0.2efficientb4SGD0.1cosine.csv','/opt/ml/realcode/output/label0.2efficientb4SGD0.05cosine.csv','/opt/ml/realcode/output/label0.3efficientb4SGD0.1cosine.csv','/opt/ml/realcode/output/cutmixefficientb4SGD0.05cosinesa.csv','/opt/ml/realcode/output/ensembel.csv','/opt/ml/realcode/output/ensemble1.csv']"
   ]
  },
  {
   "cell_type": "code",
   "execution_count": 77,
   "id": "advisory-airfare",
   "metadata": {},
   "outputs": [
    {
     "name": "stdout",
     "output_type": "stream",
     "text": [
      "/opt/ml/realcode/output/cutmixlabel0.2efficientb4SGD0.1cosine.csv\n",
      "/opt/ml/realcode/output/label0.2efficientb4SGD0.05cosine.csv\n",
      "/opt/ml/realcode/output/label0.3efficientb4SGD0.1cosine.csv\n",
      "/opt/ml/realcode/output/cutmixefficientb4SGD0.05cosinesa.csv\n",
      "/opt/ml/realcode/output/ensembel.csv\n",
      "/opt/ml/realcode/output/ensemble1.csv\n"
     ]
    }
   ],
   "source": [
    "mt=[]\n",
    "info_path='/opt/ml/input/data/eval/info.csv'\n",
    "info = pd.read_csv(info_path)\n",
    "for data in choice_data:\n",
    "    data=os.path.basename(data)\n",
    "    csv_path=f'{data_path}/{data}'\n",
    "    print(csv_path)\n",
    "    a=pd.read_csv(csv_path)\n",
    "    mt.append(list(a['ans']))\n",
    "              \n",
    "mt=list(np.array(mt).T)\n",
    "answerlist=[]\n",
    "from collections import Counter\n",
    "for data in mt:\n",
    "    counter=Counter(data)\n",
    "    answerlist.append(counter.most_common()[0][0])\n",
    "    \n",
    "info['ans']=answerlist\n",
    "info.to_csv('/opt/ml/realcode/output/ensembel2.csv',index=False)\n"
   ]
  },
  {
   "cell_type": "code",
   "execution_count": null,
   "id": "answering-sunrise",
   "metadata": {},
   "outputs": [],
   "source": []
  }
 ],
 "metadata": {
  "kernelspec": {
   "display_name": "Python 3",
   "language": "python",
   "name": "python3"
  },
  "language_info": {
   "codemirror_mode": {
    "name": "ipython",
    "version": 3
   },
   "file_extension": ".py",
   "mimetype": "text/x-python",
   "name": "python",
   "nbconvert_exporter": "python",
   "pygments_lexer": "ipython3",
   "version": "3.7.7"
  }
 },
 "nbformat": 4,
 "nbformat_minor": 5
}
